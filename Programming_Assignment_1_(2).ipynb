{
  "cells": [
    {
      "cell_type": "markdown",
      "metadata": {
        "id": "view-in-github",
        "colab_type": "text"
      },
      "source": [
        "<a href=\"https://colab.research.google.com/github/ranjithreddy155/Exploratory-Data-Analysis-with-Python/blob/master/Programming_Assignment_1_(2).ipynb\" target=\"_parent\"><img src=\"https://colab.research.google.com/assets/colab-badge.svg\" alt=\"Open In Colab\"/></a>"
      ]
    },
    {
      "cell_type": "markdown",
      "id": "637b47a5",
      "metadata": {
        "id": "637b47a5"
      },
      "source": [
        "## Programming Assignment_1\n",
        "-------------"
      ]
    },
    {
      "cell_type": "markdown",
      "id": "0c647dbe",
      "metadata": {
        "id": "0c647dbe"
      },
      "source": [
        "### 1. Write a Python program to print \"Hello Python\"?"
      ]
    },
    {
      "cell_type": "code",
      "source": [
        "print(\"Hello Python\")"
      ],
      "metadata": {
        "colab": {
          "base_uri": "https://localhost:8080/"
        },
        "id": "oBLnSUuZIHRi",
        "outputId": "f6ddeab9-1a95-496a-9a92-e1532c89ddec"
      },
      "id": "oBLnSUuZIHRi",
      "execution_count": 1,
      "outputs": [
        {
          "output_type": "stream",
          "name": "stdout",
          "text": [
            "Hello Python\n"
          ]
        }
      ]
    },
    {
      "cell_type": "markdown",
      "id": "fc18a6cd",
      "metadata": {
        "id": "fc18a6cd"
      },
      "source": [
        "### 2. Write a Python program to do arithmetical operations addition and division.?\n"
      ]
    },
    {
      "cell_type": "code",
      "source": [
        "a = 4\n",
        "b = 6\n",
        "print(\"Sum of the two numbers:\", a + b)\n",
        "print(\"Division of the two numbers:\", round((a/b),2))\n"
      ],
      "metadata": {
        "colab": {
          "base_uri": "https://localhost:8080/"
        },
        "id": "35vwTBvHIRo7",
        "outputId": "5c35acfd-8ff5-4ae3-b2c0-674c508f6ddf"
      },
      "id": "35vwTBvHIRo7",
      "execution_count": 7,
      "outputs": [
        {
          "output_type": "stream",
          "name": "stdout",
          "text": [
            "Sum of the two numbers: 10\n",
            "Division of the two numbers: 0.67\n"
          ]
        }
      ]
    },
    {
      "cell_type": "markdown",
      "id": "af6e2429",
      "metadata": {
        "id": "af6e2429"
      },
      "source": [
        "### 3. Write a Python program to find the area of a triangle?\n"
      ]
    },
    {
      "cell_type": "code",
      "source": [
        " base = int(input(\"Enter the breadth:\"))\n",
        " height = int(input(\"Enter the height:\"))\n",
        " res = 1/2*base*height\n",
        " res"
      ],
      "metadata": {
        "colab": {
          "base_uri": "https://localhost:8080/"
        },
        "id": "EH5rL_jmJ5qG",
        "outputId": "3985b88f-02fc-4bcf-8211-a28a4d43b446"
      },
      "id": "EH5rL_jmJ5qG",
      "execution_count": 9,
      "outputs": [
        {
          "name": "stdout",
          "output_type": "stream",
          "text": [
            "Enter the breadth:5\n",
            "Enter the height:6\n"
          ]
        },
        {
          "output_type": "execute_result",
          "data": {
            "text/plain": [
              "15.0"
            ]
          },
          "metadata": {},
          "execution_count": 9
        }
      ]
    },
    {
      "cell_type": "markdown",
      "id": "b8140061",
      "metadata": {
        "id": "b8140061"
      },
      "source": [
        "### 4. Write a Python program to swap two variables?\n"
      ]
    },
    {
      "cell_type": "code",
      "source": [
        " a = int(input(\"Enter the number:\"))\n",
        " b = int(input(\"Enter the number:\"))\n",
        "\n",
        " c = a\n",
        " a = b\n",
        " b = c\n",
        " print(f\"The number {a} is swapped to:\", b)\n",
        " print(f\"The number {b} is swapped to :\",a)\n",
        "\n"
      ],
      "metadata": {
        "colab": {
          "base_uri": "https://localhost:8080/"
        },
        "id": "Ft4hHpalKx3o",
        "outputId": "1cbb372a-5a9c-4b97-c1c0-b872f1634431"
      },
      "id": "Ft4hHpalKx3o",
      "execution_count": 12,
      "outputs": [
        {
          "output_type": "stream",
          "name": "stdout",
          "text": [
            "Enter the number:8\n",
            "Enter the number:6\n",
            "The number 6 is swapped to: 8\n",
            "The number 8 is swapped to : 6\n"
          ]
        }
      ]
    },
    {
      "cell_type": "markdown",
      "id": "3f8054c1",
      "metadata": {
        "id": "3f8054c1"
      },
      "source": [
        "### 5. Write a Python program to generate a random number?\n",
        "\n"
      ]
    },
    {
      "cell_type": "code",
      "source": [
        "pip install numpy"
      ],
      "metadata": {
        "colab": {
          "base_uri": "https://localhost:8080/"
        },
        "id": "DAMeploTMhF9",
        "outputId": "84a620b7-04f5-4a33-b453-1e6c20c2ac93"
      },
      "id": "DAMeploTMhF9",
      "execution_count": 14,
      "outputs": [
        {
          "output_type": "stream",
          "name": "stdout",
          "text": [
            "Looking in indexes: https://pypi.org/simple, https://us-python.pkg.dev/colab-wheels/public/simple/\n",
            "Requirement already satisfied: numpy in /usr/local/lib/python3.7/dist-packages (1.21.6)\n"
          ]
        }
      ]
    },
    {
      "cell_type": "code",
      "source": [
        "import random\n",
        "a = random.random()\n",
        "print(a)\n"
      ],
      "metadata": {
        "colab": {
          "base_uri": "https://localhost:8080/"
        },
        "id": "tpevdQeXNcPi",
        "outputId": "a3cf59b7-8d74-4ead-c991-2509436d6186"
      },
      "id": "tpevdQeXNcPi",
      "execution_count": 21,
      "outputs": [
        {
          "output_type": "stream",
          "name": "stdout",
          "text": [
            "0.23901994744665112\n"
          ]
        }
      ]
    },
    {
      "cell_type": "code",
      "source": [],
      "metadata": {
        "id": "DhQrPJ5fNr6S"
      },
      "id": "DhQrPJ5fNr6S",
      "execution_count": null,
      "outputs": []
    }
  ],
  "metadata": {
    "kernelspec": {
      "display_name": "Python 3 (ipykernel)",
      "language": "python",
      "name": "python3"
    },
    "language_info": {
      "codemirror_mode": {
        "name": "ipython",
        "version": 3
      },
      "file_extension": ".py",
      "mimetype": "text/x-python",
      "name": "python",
      "nbconvert_exporter": "python",
      "pygments_lexer": "ipython3",
      "version": "3.9.12"
    },
    "colab": {
      "provenance": [],
      "include_colab_link": true
    }
  },
  "nbformat": 4,
  "nbformat_minor": 5
}